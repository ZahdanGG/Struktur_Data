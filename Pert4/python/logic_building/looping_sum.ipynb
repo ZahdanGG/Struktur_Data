{
 "cells": [
  {
   "cell_type": "code",
   "execution_count": 1,
   "id": "078e65d9",
   "metadata": {},
   "outputs": [],
   "source": [
    "def findSum(n):\n",
    "    sum = 0\n",
    "    x = 1\n",
    "    while x <= n:\n",
    "        sum = sum + x\n",
    "        x = x + 1\n",
    "    return sum"
   ]
  },
  {
   "cell_type": "code",
   "execution_count": 2,
   "id": "e78ff262",
   "metadata": {},
   "outputs": [
    {
     "name": "stdout",
     "output_type": "stream",
     "text": [
      "15\n"
     ]
    }
   ],
   "source": [
    "n = 5\n",
    "print(findSum(n))"
   ]
  }
 ],
 "metadata": {
  "kernelspec": {
   "display_name": "myenv",
   "language": "python",
   "name": "python3"
  },
  "language_info": {
   "codemirror_mode": {
    "name": "ipython",
    "version": 3
   },
   "file_extension": ".py",
   "mimetype": "text/x-python",
   "name": "python",
   "nbconvert_exporter": "python",
   "pygments_lexer": "ipython3",
   "version": "3.12.3"
  }
 },
 "nbformat": 4,
 "nbformat_minor": 5
}
