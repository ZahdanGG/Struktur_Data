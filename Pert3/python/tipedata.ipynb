{
 "cells": [
  {
   "cell_type": "markdown",
   "id": "1176f8be",
   "metadata": {},
   "source": [
    "INT"
   ]
  },
  {
   "cell_type": "code",
   "execution_count": null,
   "id": "83f0c874",
   "metadata": {},
   "outputs": [],
   "source": [
    "a = 1\n",
    "print(a)\n",
    "print(type(a))"
   ]
  },
  {
   "cell_type": "markdown",
   "id": "9bd47130",
   "metadata": {},
   "source": [
    "1\n",
    "<class 'int'>"
   ]
  },
  {
   "cell_type": "markdown",
   "id": "ac202f52",
   "metadata": {},
   "source": [
    "STRING"
   ]
  },
  {
   "cell_type": "code",
   "execution_count": null,
   "id": "d96b28e1",
   "metadata": {},
   "outputs": [],
   "source": [
    "b = \"hello\"\n",
    "print(b)\n",
    "print(type(b))"
   ]
  },
  {
   "cell_type": "markdown",
   "id": "f4470daf",
   "metadata": {},
   "source": [
    "hello\n",
    "<class 'str'>"
   ]
  },
  {
   "cell_type": "markdown",
   "id": "9ddbf603",
   "metadata": {},
   "source": [
    "FLOAT"
   ]
  },
  {
   "cell_type": "code",
   "execution_count": null,
   "id": "77232edf",
   "metadata": {},
   "outputs": [],
   "source": [
    "c = 10.5\n",
    "print(c)\n",
    "print(type(c))"
   ]
  },
  {
   "cell_type": "markdown",
   "id": "9a8277f9",
   "metadata": {},
   "source": [
    "10.5\n",
    "<class 'float'>"
   ]
  },
  {
   "cell_type": "markdown",
   "id": "83518c6a",
   "metadata": {},
   "source": [
    "COMPLEX"
   ]
  },
  {
   "cell_type": "code",
   "execution_count": null,
   "id": "f3a60aed",
   "metadata": {},
   "outputs": [],
   "source": [
    "d = 1j\n",
    "print(d)\n",
    "print(type(d))"
   ]
  },
  {
   "cell_type": "markdown",
   "id": "e8812f9f",
   "metadata": {},
   "source": [
    "1j\n",
    "<class 'complex'>"
   ]
  },
  {
   "cell_type": "markdown",
   "id": "1db7adc8",
   "metadata": {},
   "source": [
    "LIST"
   ]
  },
  {
   "cell_type": "code",
   "execution_count": null,
   "id": "3847d108",
   "metadata": {},
   "outputs": [],
   "source": [
    "e = [\"a\",\"b\",\"c\"]\n",
    "print(e)\n",
    "print(type(e))"
   ]
  },
  {
   "cell_type": "markdown",
   "id": "8725859f",
   "metadata": {},
   "source": [
    "['a', 'b', 'c']\n",
    "<class 'list'>"
   ]
  },
  {
   "cell_type": "markdown",
   "id": "0b432817",
   "metadata": {},
   "source": [
    "TUPPLE"
   ]
  },
  {
   "cell_type": "code",
   "execution_count": null,
   "id": "1f367dd3",
   "metadata": {},
   "outputs": [],
   "source": [
    "f = (\"a\",\"b\",\"c\")\n",
    "print(f)\n",
    "print(type(f))"
   ]
  },
  {
   "cell_type": "markdown",
   "id": "235a6d09",
   "metadata": {},
   "source": [
    "('a', 'b', 'c')\n",
    "<class 'tuple'>"
   ]
  },
  {
   "cell_type": "markdown",
   "id": "93efbef7",
   "metadata": {},
   "source": [
    "RANGE"
   ]
  },
  {
   "cell_type": "code",
   "execution_count": null,
   "id": "4973e006",
   "metadata": {},
   "outputs": [],
   "source": [
    "g = range(5)\n",
    "print(g)\n",
    "print(type(g))"
   ]
  },
  {
   "cell_type": "markdown",
   "id": "7df55f18",
   "metadata": {},
   "source": [
    "range(0, 5)\n",
    "<class 'range'>"
   ]
  },
  {
   "cell_type": "markdown",
   "id": "d19bf9c1",
   "metadata": {},
   "source": [
    "SET"
   ]
  },
  {
   "cell_type": "code",
   "execution_count": null,
   "id": "ace81e23",
   "metadata": {},
   "outputs": [],
   "source": [
    "h = {\"ani\", \"budi\"}\n",
    "print(h)\n",
    "print(type(h))"
   ]
  },
  {
   "cell_type": "markdown",
   "id": "8211bfef",
   "metadata": {},
   "source": [
    "{'ani', 'budi'}\n",
    "<class 'set'>"
   ]
  },
  {
   "cell_type": "markdown",
   "id": "f97727d9",
   "metadata": {},
   "source": [
    "DICT"
   ]
  },
  {
   "cell_type": "code",
   "execution_count": null,
   "id": "d7b00d2a",
   "metadata": {},
   "outputs": [],
   "source": [
    "i = {\"nama\" : \"ani\"}\n",
    "print(i)\n",
    "print(type(i))"
   ]
  },
  {
   "cell_type": "markdown",
   "id": "877bd364",
   "metadata": {},
   "source": [
    "{'nama': 'ani'}\n",
    "<class 'dict'>"
   ]
  },
  {
   "cell_type": "markdown",
   "id": "b84e52b7",
   "metadata": {},
   "source": [
    "FROZENSET"
   ]
  },
  {
   "cell_type": "code",
   "execution_count": null,
   "id": "cb25656a",
   "metadata": {},
   "outputs": [],
   "source": [
    "j = frozenset({\"ani\", \"budi\"})\n",
    "print(j)\n",
    "print(type(j))"
   ]
  },
  {
   "cell_type": "markdown",
   "id": "402a01d2",
   "metadata": {},
   "source": [
    "frozenset({'ani', 'budi'})\n",
    "<class 'frozenset'>"
   ]
  },
  {
   "cell_type": "markdown",
   "id": "f38b58ff",
   "metadata": {},
   "source": [
    "BOOL"
   ]
  },
  {
   "cell_type": "code",
   "execution_count": null,
   "id": "dc5bf354",
   "metadata": {},
   "outputs": [],
   "source": [
    "k = True\n",
    "print(k)\n",
    "print(type(k))"
   ]
  },
  {
   "cell_type": "markdown",
   "id": "091326de",
   "metadata": {},
   "source": [
    "True\n",
    "<class 'bool'>"
   ]
  },
  {
   "cell_type": "markdown",
   "id": "dad11607",
   "metadata": {},
   "source": [
    "BYTES"
   ]
  },
  {
   "cell_type": "code",
   "execution_count": null,
   "id": "b533ca6e",
   "metadata": {},
   "outputs": [],
   "source": [
    "l = b\"hello\"\n",
    "print(l)\n",
    "print(type(l))"
   ]
  },
  {
   "cell_type": "markdown",
   "id": "f4d12200",
   "metadata": {},
   "source": [
    "b'hello'\n",
    "<class 'bytes'>"
   ]
  },
  {
   "cell_type": "markdown",
   "id": "4ad0087d",
   "metadata": {},
   "source": [
    "BYTE ARRAY"
   ]
  },
  {
   "cell_type": "code",
   "execution_count": null,
   "id": "4b01e355",
   "metadata": {},
   "outputs": [],
   "source": [
    "m = bytearray(5)\n",
    "print(m)\n",
    "print(type(m))"
   ]
  },
  {
   "cell_type": "markdown",
   "id": "05e8f8f7",
   "metadata": {},
   "source": [
    "bytearray(b'\\x00\\x00\\x00\\x00\\x00')\n",
    "<class 'bytearray'>"
   ]
  },
  {
   "cell_type": "markdown",
   "id": "4f6f25f0",
   "metadata": {},
   "source": [
    "MEMORY VIEW"
   ]
  },
  {
   "cell_type": "code",
   "execution_count": null,
   "id": "d7e3c771",
   "metadata": {},
   "outputs": [],
   "source": [
    "n = memoryview(bytes(5))\n",
    "print(n)\n",
    "print(type(n))"
   ]
  },
  {
   "cell_type": "markdown",
   "id": "4c63dcb7",
   "metadata": {},
   "source": [
    "<memory at 0x7f8fa037a500>\n",
    "<class 'memoryview'>\n"
   ]
  }
 ],
 "metadata": {
  "kernelspec": {
   "display_name": "Python 3",
   "language": "python",
   "name": "python3"
  },
  "language_info": {
   "name": "python",
   "version": "3.12.3"
  }
 },
 "nbformat": 4,
 "nbformat_minor": 5
}
